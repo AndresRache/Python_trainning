{
 "cells": [
  {
   "cell_type": "markdown",
   "metadata": {},
   "source": [
    "## <center>**Plan de Formación DNI-UNAL 2024**</center>\n",
    "\n",
    "<center><img src=\"Archivos/logos.png\" alt=\"Logos\" width=\"800\" height=\"100\"></center>\n",
    "\n",
    "---\n",
    "\n",
    "# <center>**Fundamentos de programación**</center>\n",
    "### <center>Departamento de Estadística</center>\n",
    "#### <center>Universidad Nacional de Colombia, Sede Bogotá</center>\n",
    "\n",
    "---\n"
   ]
  },
  {
   "cell_type": "markdown",
   "metadata": {
    "nbgrader": {
     "grade": false,
     "grade_id": "header",
     "locked": true,
     "schema_version": 3,
     "solution": false,
     "task": false
    },
    "tags": [
     "{}"
    ]
   },
   "source": [
    "\n",
    "# Estructuras de datos: listas, tuplas, conjuntos y diccionarios\n",
    "\n",
    "En este taller implementarás listas, tuplas y diccionarios para resolver diversos ejercicios.\n",
    "\n",
    "\n",
    "## Habilidades en práctica\n",
    "\n",
    "Al realizar este taller podrás revisar tu progreso para:\n",
    "\n",
    "**1.** Declarar tuplas, listas y diccionarios.<br> \n",
    "**2.** Consultar y modificar los valores almacenados en estructuras de datos y estructuras de datos anidadas.<br> \n",
    "**3.** Utilizar el rebanado en estructuras de datos ordenadas (listas y tuplas).<br> \n",
    "**4.** Utilizar métodos para modificar, reordenar, u operar estructuras de datos.<br> \n",
    "\n",
    "\n",
    "## Instrucciones\n",
    "\n",
    "En cada uno de los siguientes ejercicios deberás escribir el código solicitado estrictamente en las celdas indicadas para ello, teniendo en cuenta las siguientes recomendaciones:\n",
    "\n",
    "* No crear, eliminar o modificar celdas de este Notebook (salvo lo que se te indique), pues puede verse afectado el proceso de calificación automática.\n",
    "* La calificación se realiza de manera automática con datos diferentes a los proporcionados en este taller. Por consiguiente, tu código debe funcionar para diferentes instancias de cada uno de los ejercicios; una instancia hace referencia al valor de los parámetros.\n",
    "* La calificación de cada ejercicio depende del valor que tome la variable especificada en su enunciado. Por lo tanto, aunque declares variables adicionales en tu código, es escencial que utilices los nombres de las variables propuestas en los enunciados de los ejercicios para guardar el resultado final.\n",
    "\n",
    "A continuación puedes ver un ejemplo de los enunciados y ejercicios que encontrarás en este taller."
   ]
  },
  {
   "cell_type": "markdown",
   "metadata": {
    "nbgrader": {
     "grade": false,
     "grade_id": "eje-enun",
     "locked": true,
     "schema_version": 3,
     "solution": false,
     "task": false
    }
   },
   "source": [
    "## Meses del año\n",
    "\n",
    "A continuación encuentras una lista llamada `lista_meses` que contiene todos los meses del año."
   ]
  },
  {
   "cell_type": "code",
   "execution_count": null,
   "metadata": {
    "nbgrader": {
     "grade": false,
     "grade_id": "eje-data",
     "locked": true,
     "schema_version": 3,
     "solution": false,
     "task": false
    },
    "scrolled": true
   },
   "outputs": [],
   "source": [
    "# No modifiques esta celda\n",
    "\n",
    "lista_meses = ['Enero', 'Febrero', 'Marzo', 'Abril', 'Mayo', 'Junio', 'Julio', 'Agosto', 'Septiembre', 'Octubre', 'Noviembre', 'Diciembre']"
   ]
  },
  {
   "cell_type": "markdown",
   "metadata": {
    "nbgrader": {
     "grade": false,
     "grade_id": "eje-task",
     "locked": true,
     "schema_version": 3,
     "solution": false,
     "task": false
    }
   },
   "source": [
    "### Ejemplo\n",
    "\n",
    "Extrae los últimos tres meses del año de la lista `lista_meses` y almacénalos en una nueva lista llamada `cuarto_trimestre`."
   ]
  },
  {
   "cell_type": "code",
   "execution_count": null,
   "metadata": {
    "nbgrader": {
     "grade": false,
     "grade_id": "eje-sol",
     "locked": true,
     "schema_version": 3,
     "solution": false,
     "task": false
    }
   },
   "outputs": [],
   "source": [
    "# Implementa tu respuesta en esta celda\n",
    "\n",
    "cuarto_trimestre = lista_meses[-3:]\n",
    "cuarto_trimestre"
   ]
  },
  {
   "cell_type": "code",
   "execution_count": 1,
   "metadata": {},
   "outputs": [],
   "source": [
    "# No modifiques esta celda\n",
    "\n",
    "from cache import calificar_ejercicio1, calificar_ejercicio2, calificar_ejercicio3, calificar_ejercicio4, calificar_ejercicio5, calificar_ejercicio6, calificar_ejercicio7, calificar_ejercicio8, calificar_ejercicio9, calificar_ejercicio10, calificar_ejercicio11, calificar_ejercicio12, calificar_ejercicio13, calificar_ejercicio14, calificar_ejercicio15"
   ]
  },
  {
   "cell_type": "markdown",
   "metadata": {
    "nbgrader": {
     "grade": false,
     "grade_id": "ej1-enun",
     "locked": true,
     "schema_version": 3,
     "solution": false,
     "task": false
    }
   },
   "source": [
    "## El proyecto inmobiliario \n",
    "\n",
    "El gerente de un proyecto inmobiliario registró en la siguiente tabla el número de casas vendidas en los últimos seis meses:\n",
    "\n",
    "|Mes|Ventas|\n",
    "|:-------:|:-----------:|\n",
    "|1| 20|\n",
    "|2| 21|\n",
    "|3| 22|\n",
    "|4| 20|\n",
    "|5| 21|\n",
    "|6| 27|\n",
    "\n",
    "*Resuelve los ejercicios del 1 al 3 con base en este enunciado.*"
   ]
  },
  {
   "cell_type": "markdown",
   "metadata": {
    "nbgrader": {
     "grade": false,
     "grade_id": "ej1-task",
     "locked": true,
     "schema_version": 3,
     "solution": false,
     "task": false
    }
   },
   "source": [
    "### Ejercicio 1\n",
    "\n",
    "Declara una lista llamada `lista_ventas` en la que se almacene la información de la columna ventas."
   ]
  },
  {
   "cell_type": "code",
   "execution_count": null,
   "metadata": {
    "nbgrader": {
     "grade": false,
     "grade_id": "ej1-sol",
     "locked": false,
     "schema_version": 3,
     "solution": true,
     "task": false
    },
    "nombre": "Ej1"
   },
   "outputs": [],
   "source": [
    "# Implementa tu respuesta en esta celda\n"
   ]
  },
  {
   "cell_type": "code",
   "execution_count": 3,
   "metadata": {},
   "outputs": [
    {
     "name": "stdout",
     "output_type": "stream",
     "text": [
      "Felicidades, realizaste este ejercicio correctamente.\n"
     ]
    }
   ],
   "source": [
    "# Autocalificador \n",
    "\n",
    "calificar_ejercicio1(lista_ventas)"
   ]
  },
  {
   "cell_type": "markdown",
   "metadata": {
    "nbgrader": {
     "grade": false,
     "grade_id": "ej2-enun",
     "locked": true,
     "schema_version": 3,
     "solution": false,
     "task": false
    }
   },
   "source": [
    "### Ejercicio 2 \n",
    "\n",
    "De manera inesperada, a algunos de los compradores del mes `mes_a_actualizar` le negaron el crédito. Teniendo en cuenta lo anterior, el número de casas vendidas de ese mes ha sido actualizado y está almacenado en la variable `ventas_mes_a_actualizar`. Utiliza estas variables en tu código."
   ]
  },
  {
   "cell_type": "code",
   "execution_count": null,
   "metadata": {
    "nbgrader": {
     "grade": false,
     "grade_id": "ej2-data",
     "locked": true,
     "schema_version": 3,
     "solution": false,
     "task": false
    }
   },
   "outputs": [],
   "source": [
    "# No modifiques esta celda\n",
    "\n",
    "mes_a_actualizar = 4\n",
    "ventas_mes_a_actualizar = 18"
   ]
  },
  {
   "cell_type": "markdown",
   "metadata": {
    "nbgrader": {
     "grade": false,
     "grade_id": "ej2-task",
     "locked": true,
     "schema_version": 3,
     "solution": false,
     "task": false
    }
   },
   "source": [
    "Modifica la lista de ventas `lista_ventas` para actualizar ese valor."
   ]
  },
  {
   "cell_type": "code",
   "execution_count": null,
   "metadata": {
    "nbgrader": {
     "grade": false,
     "grade_id": "ej2-sol",
     "locked": false,
     "schema_version": 3,
     "solution": true,
     "task": false
    },
    "nombre": "Ej2"
   },
   "outputs": [],
   "source": [
    "# Implementa tu respuesta en esta celda\n",
    "\n"
   ]
  },
  {
   "cell_type": "code",
   "execution_count": null,
   "metadata": {},
   "outputs": [],
   "source": [
    "# Autocalificador \n",
    "\n",
    "calificar_ejercicio2(lista_ventas, mes_a_actualizar, ventas_mes_a_actualizar)"
   ]
  },
  {
   "cell_type": "markdown",
   "metadata": {
    "nbgrader": {
     "grade": false,
     "grade_id": "ej3-task",
     "locked": true,
     "schema_version": 3,
     "solution": false,
     "task": false
    }
   },
   "source": [
    "### Ejercicio 3\n",
    "\n",
    "El gerente del proyecto solicitó que se le reporten los `n` mayores niveles de ventas mensuales de casas, ordenados de mayor a menor. La variable en la que guardes el resultado debe tener el nombre `mejores_ventas`. Haz uso de la lista `lista_ventas`.\n",
    "\n",
    "**Pista:** el método `sort` recibe un parámetro llamado `reverse`."
   ]
  },
  {
   "cell_type": "code",
   "execution_count": null,
   "metadata": {
    "nbgrader": {
     "grade": false,
     "grade_id": "ej3-data",
     "locked": true,
     "schema_version": 3,
     "solution": false,
     "task": false
    }
   },
   "outputs": [],
   "source": [
    "# No modifiques esta celda\n",
    "\n",
    "n = 3"
   ]
  },
  {
   "cell_type": "code",
   "execution_count": null,
   "metadata": {
    "nbgrader": {
     "grade": false,
     "grade_id": "ej3-sol",
     "locked": false,
     "schema_version": 3,
     "solution": true,
     "task": false
    },
    "nombre": "Ej3"
   },
   "outputs": [],
   "source": [
    "# Implementa tu respuesta en esta celda\n"
   ]
  },
  {
   "cell_type": "code",
   "execution_count": null,
   "metadata": {},
   "outputs": [],
   "source": [
    "# Autocalificador \n",
    "\n",
    "calificar_ejercicio3(mejores_ventas,lista_ventas,n)"
   ]
  },
  {
   "cell_type": "markdown",
   "metadata": {
    "nbgrader": {
     "grade": false,
     "grade_id": "ej4-enun",
     "locked": true,
     "schema_version": 3,
     "solution": false,
     "task": false
    }
   },
   "source": [
    "## La compañía de encuestas\n",
    "\n",
    "Una compañía de encuestas requiere hacer llamadas telefónicas a un grupo de personas y solo cuenta con dos operarios. Un operario debe llamar a la primera mitad de las personas (ordenándolas alfabéticamente), mientras que el otro llamará a la segunda mitad. La variable `nombres` almacena una lista con los nombres de las personas a llamar."
   ]
  },
  {
   "cell_type": "code",
   "execution_count": null,
   "metadata": {
    "nbgrader": {
     "grade": false,
     "grade_id": "ej4-data",
     "locked": true,
     "schema_version": 3,
     "solution": false,
     "task": false
    }
   },
   "outputs": [],
   "source": [
    "# No modifiques esta celda\n",
    "\n",
    "nombres = [\"Sara\", \"Juan\", \"Alberto\", \"Ana\", \"Enrique\", \"Lola\"]"
   ]
  },
  {
   "cell_type": "markdown",
   "metadata": {
    "nbgrader": {
     "grade": false,
     "grade_id": "ej4-task",
     "locked": true,
     "schema_version": 3,
     "solution": false,
     "task": false
    }
   },
   "source": [
    "### Ejercicio 4\n",
    "\n",
    "Haciendo uso de la lista `nombres` y otras posibles listas auxiliares que necesites, debes crear las siguientes dos listas:\n",
    "\n",
    "* La primera debe llamarse `primera_mitad` y contener la primera mitad de las personas en orden alfábetico. En caso de haber un número impar de personas, por ejemplo 5, en esta primera lista se incluyen las primeras tres personas.\n",
    "* La segunda debe llamarse `segunda_mitad` y contener la segunda mitad de personas, según el orden alfabético.\n",
    "\n",
    "**Pista:** para aproximar números decimales a enteros, el paquete `math` incluye las funciones `ceil` (aproxima al entero superior) y `floor` (aproxima al entero inferior)."
   ]
  },
  {
   "cell_type": "code",
   "execution_count": null,
   "metadata": {
    "nbgrader": {
     "grade": false,
     "grade_id": "ej4-sol",
     "locked": false,
     "schema_version": 3,
     "solution": true,
     "task": false
    },
    "nombre": "Ej4"
   },
   "outputs": [],
   "source": [
    "# Implementa tu respuesta en esta celda\n"
   ]
  },
  {
   "cell_type": "code",
   "execution_count": null,
   "metadata": {},
   "outputs": [],
   "source": [
    "# Autocalificador \n",
    "\n",
    "calificar_ejercicio4(primera_mitad, segunda_mitad, nombres)"
   ]
  },
  {
   "cell_type": "markdown",
   "metadata": {
    "nbgrader": {
     "grade": false,
     "grade_id": "ej5-enun",
     "locked": true,
     "schema_version": 3,
     "solution": false,
     "task": false
    }
   },
   "source": [
    "## Las letras del abecedario\n",
    "\n",
    "A continuación encontrarás declarada una lista que contiene listas anidadas con las letras del alfabeto.\n",
    "\n",
    "*Resuelve los ejercicios del 5 al 8 con base en este enunciado.*"
   ]
  },
  {
   "cell_type": "code",
   "execution_count": null,
   "metadata": {
    "nbgrader": {
     "grade": false,
     "grade_id": "ej5-data",
     "locked": true,
     "schema_version": 3,
     "solution": false,
     "task": false
    }
   },
   "outputs": [],
   "source": [
    "# No modifiques esta celda\n",
    "\n",
    "lista_abecedario = [\"a\", \"b\", \"c\", [\"d\", \"e\", [\"f\", \"g\"]]]"
   ]
  },
  {
   "cell_type": "markdown",
   "metadata": {
    "nbgrader": {
     "grade": false,
     "grade_id": "ej5-task",
     "locked": true,
     "schema_version": 3,
     "solution": false,
     "task": false
    }
   },
   "source": [
    "### Ejercicio 5\n",
    "\n",
    "Haciendo uso de la lista `lista_abecedario`, obtén las primeras tres letras del abecedario y almacénalas en una lista con nombre `lista_abc`. "
   ]
  },
  {
   "cell_type": "code",
   "execution_count": null,
   "metadata": {
    "nbgrader": {
     "grade": false,
     "grade_id": "ej5-sol",
     "locked": false,
     "schema_version": 3,
     "solution": true,
     "task": false
    },
    "nombre": "Ej5"
   },
   "outputs": [],
   "source": [
    "# Implementa tu respuesta en esta celda\n"
   ]
  },
  {
   "cell_type": "code",
   "execution_count": null,
   "metadata": {},
   "outputs": [],
   "source": [
    "# Autocalificador \n",
    "\n",
    "calificar_ejercicio5(lista_abc, lista_abecedario)"
   ]
  },
  {
   "cell_type": "markdown",
   "metadata": {
    "nbgrader": {
     "grade": false,
     "grade_id": "ej6-task",
     "locked": true,
     "schema_version": 3,
     "solution": false,
     "task": false
    }
   },
   "source": [
    "### Ejercicio 6\n",
    "\n",
    "Haciendo uso de la lista `lista_abecedario`, obtén una lista con las letras d y e, y almacénala en una lista con nombre `lista_de`."
   ]
  },
  {
   "cell_type": "code",
   "execution_count": null,
   "metadata": {
    "nbgrader": {
     "grade": false,
     "grade_id": "ej6-sol",
     "locked": false,
     "schema_version": 3,
     "solution": true,
     "task": false
    },
    "nombre": "Ej6"
   },
   "outputs": [],
   "source": [
    "# Implementa tu respuesta en esta celda\n",
    "\n"
   ]
  },
  {
   "cell_type": "code",
   "execution_count": null,
   "metadata": {},
   "outputs": [],
   "source": [
    "# Autocalificador\n",
    "\n",
    "calificar_ejercicio6(lista_de, lista_abecedario)"
   ]
  },
  {
   "cell_type": "markdown",
   "metadata": {
    "nbgrader": {
     "grade": false,
     "grade_id": "ej7-task",
     "locked": true,
     "schema_version": 3,
     "solution": false,
     "task": false
    }
   },
   "source": [
    "### Ejercicio 7\n",
    "\n",
    "Haciendo uso de la lista `lista_abecedario` y posibles listas auxiliares que necesites, crea una lista con las letras f, g y h, y almacénala en una lista con nombre `lista_fgh`. "
   ]
  },
  {
   "cell_type": "code",
   "execution_count": null,
   "metadata": {
    "nbgrader": {
     "grade": false,
     "grade_id": "ej7-sol",
     "locked": false,
     "schema_version": 3,
     "solution": true,
     "task": false
    },
    "nombre": "Ej7"
   },
   "outputs": [],
   "source": [
    "# Implementa tu respuesta en esta celda\n",
    "\n"
   ]
  },
  {
   "cell_type": "code",
   "execution_count": null,
   "metadata": {},
   "outputs": [],
   "source": [
    "# Autocalificador\n",
    "\n",
    "calificar_ejercicio7(lista_fgh, lista_abecedario)"
   ]
  },
  {
   "cell_type": "markdown",
   "metadata": {
    "nbgrader": {
     "grade": false,
     "grade_id": "ej8-task",
     "locked": true,
     "schema_version": 3,
     "solution": false,
     "task": false
    }
   },
   "source": [
    "### Ejercicio 8\n",
    "\n",
    "Haciendo uso de las listas anteriormente creadas y posibles listas auxiliares que necesites, genera una lista que contenga las primeras diez letras del abecedario y llámala `lista_a_j`."
   ]
  },
  {
   "cell_type": "code",
   "execution_count": null,
   "metadata": {
    "nbgrader": {
     "grade": false,
     "grade_id": "ej8-sol",
     "locked": false,
     "schema_version": 3,
     "solution": true,
     "task": false
    },
    "nombre": "Ej8",
    "scrolled": true
   },
   "outputs": [],
   "source": [
    "# Implementa tu respuesta en esta celda\n"
   ]
  },
  {
   "cell_type": "code",
   "execution_count": null,
   "metadata": {},
   "outputs": [],
   "source": [
    "# Autocalificador\n",
    "\n",
    "calificar_ejercicio8(lista_a_j, lista_abc, lista_de, lista_fgh)"
   ]
  },
  {
   "cell_type": "markdown",
   "metadata": {
    "nbgrader": {
     "grade": false,
     "grade_id": "ej9-enun",
     "locked": true,
     "schema_version": 3,
     "solution": false,
     "task": false
    }
   },
   "source": [
    "## Los números primos\n",
    "\n",
    "Un equipo de ingenieros de sistemas está trabajando con números primos para realizar encriptaciones, en la siguiente celda encuentras los números primos del 1 al 100.\n",
    "\n",
    "*Resuelve los ejercicios 9 y 10 con base en este enunciado.*"
   ]
  },
  {
   "cell_type": "code",
   "execution_count": null,
   "metadata": {
    "nbgrader": {
     "grade": false,
     "grade_id": "ej910-data",
     "locked": true,
     "schema_version": 3,
     "solution": false,
     "task": false
    }
   },
   "outputs": [],
   "source": [
    "# No modifiques esta celda\n",
    "\n",
    "tupla_primos =  (2, 3, 5, 7, 11, 13, 17, 19, 23, 29, 31, 37, 41, 43, 47, 53, 59, 61, 67, 71, 73, 79, 83, 89, 97)"
   ]
  },
  {
   "cell_type": "markdown",
   "metadata": {
    "nbgrader": {
     "grade": false,
     "grade_id": "ej9-task",
     "locked": true,
     "schema_version": 3,
     "solution": false,
     "task": false
    }
   },
   "source": [
    "### Ejercicio 9\n",
    "\n",
    "Encuentra cuál índice de la tupla `tupla_primos` le corresponde al número `a_buscar` y almacénalo en una variable llamada `indice`."
   ]
  },
  {
   "cell_type": "code",
   "execution_count": null,
   "metadata": {
    "nbgrader": {
     "grade": false,
     "grade_id": "ej9-data",
     "locked": true,
     "schema_version": 3,
     "solution": false,
     "task": false
    }
   },
   "outputs": [],
   "source": [
    "# No modifiques esta celda\n",
    "\n",
    "a_buscar = 73"
   ]
  },
  {
   "cell_type": "code",
   "execution_count": null,
   "metadata": {
    "nbgrader": {
     "grade": false,
     "grade_id": "ej9-sol",
     "locked": false,
     "schema_version": 3,
     "solution": true,
     "task": false
    },
    "nombre": "Ej9"
   },
   "outputs": [],
   "source": [
    "# Implementa tu respuesta en esta celda\n",
    "\n"
   ]
  },
  {
   "cell_type": "code",
   "execution_count": null,
   "metadata": {},
   "outputs": [],
   "source": [
    "# Autocalificador\n",
    "\n",
    "calificar_ejercicio9(indice, tupla_primos, a_buscar)"
   ]
  },
  {
   "cell_type": "markdown",
   "metadata": {
    "nbgrader": {
     "grade": false,
     "grade_id": "ej10-task",
     "locked": true,
     "schema_version": 3,
     "solution": false,
     "task": false
    }
   },
   "source": [
    "### Ejercicio 10\n",
    "\n",
    "El equipo de ingenieros de sistemas decidió cambiar levemente los números a usar para la encriptación. Ahora, en vez de utilizar todos los números primos del 1 al 100, decidieron elegir un número sí, un número no, dentro de un rango definido por `lim_inferior` y `lim_superior` (incluyéndolos). Por ejemplo, si `lim_inferior` es 5 y `lim_superior` es 31, los números utilizados para la encriptación serían los siguientes: 5,11,17,23,31. \n",
    "\n",
    "Crea una tupla con la secuencia que necesita el equipo y llámala `tupla_secuencia`. Haz uso de la tupla `tupla_primos`.\n",
    "\n",
    "**Pista**: a la instrucción de rebanado se le puede agregar un tercer elemento separándolo con dos puntos, para indicar a cuantos pasos rebanar la estructura de datos ordenada. Ejemplo: `tupla[indice_inicio : indice_fin : pasos]`"
   ]
  },
  {
   "cell_type": "code",
   "execution_count": null,
   "metadata": {
    "nbgrader": {
     "grade": false,
     "grade_id": "ej10-data",
     "locked": true,
     "schema_version": 3,
     "solution": false,
     "task": false
    }
   },
   "outputs": [],
   "source": [
    "# No modifiques esta celda\n",
    "\n",
    "lim_inferior = 3\n",
    "lim_superior = 53"
   ]
  },
  {
   "cell_type": "code",
   "execution_count": null,
   "metadata": {
    "nbgrader": {
     "grade": false,
     "grade_id": "ej10-sol",
     "locked": false,
     "schema_version": 3,
     "solution": true,
     "task": false
    },
    "nombre": "Ej10"
   },
   "outputs": [],
   "source": [
    "# Implementa tu respuesta en esta celda\n",
    "\n"
   ]
  },
  {
   "cell_type": "code",
   "execution_count": null,
   "metadata": {},
   "outputs": [],
   "source": [
    "# Autocalificador\n",
    "\n",
    "calificar_ejercicio10(tupla_secuencia, tupla_primos, lim_inferior, lim_superior)"
   ]
  },
  {
   "cell_type": "markdown",
   "metadata": {},
   "source": [
    "## La fábrica de muebles\n",
    "\n",
    "Una fábrica de muebles hace escritorios a la medida con dos tipos de madera: caoba y arce. La empresa registró los pedidos semanales de ambas referencias de madera: en la primera semana debe fabricar tres escritorios de caoba y dos de arce, en la segunda semana necesita dos escritorios de caoba y cuatro de arce, y en la última semana un escritorio de cada tipo.\n",
    "\n",
    "En la siguiente celda encontrarás tres tuplas que hacen referencia a los pedidos de cada semana.\n",
    "\n",
    "*Resuelve los ejercicios 11 y 12 con base en este enunciado.*"
   ]
  },
  {
   "cell_type": "code",
   "execution_count": 2,
   "metadata": {
    "nbgrader": {
     "grade": false,
     "grade_id": "ej11-data",
     "locked": true,
     "schema_version": 3,
     "solution": false,
     "task": false
    }
   },
   "outputs": [],
   "source": [
    "# No modifiques esta celda\n",
    "\n",
    "pedidos_semana_1 = (3,2)\n",
    "pedidos_semana_2 = (2,4)\n",
    "pedidos_semana_3 = (1,1)"
   ]
  },
  {
   "cell_type": "markdown",
   "metadata": {
    "nbgrader": {
     "grade": false,
     "grade_id": "ej11-task",
     "locked": true,
     "schema_version": 3,
     "solution": false,
     "task": false
    }
   },
   "source": [
    "### Ejercicio 11\n",
    "\n",
    "Declara una tupla con el nombre `tupla_pedidos` que anide las tres tuplas declaradas en la anterior celda de código. La tupla `tupla_pedidos` debe quedar en órden cronológico."
   ]
  },
  {
   "cell_type": "code",
   "execution_count": null,
   "metadata": {
    "nbgrader": {
     "grade": false,
     "grade_id": "ej11-sol",
     "locked": false,
     "schema_version": 3,
     "solution": true,
     "task": false
    },
    "nombre": "Ej11"
   },
   "outputs": [],
   "source": [
    "# Implementa tu respuesta en esta celda\n"
   ]
  },
  {
   "cell_type": "code",
   "execution_count": 4,
   "metadata": {},
   "outputs": [
    {
     "name": "stdout",
     "output_type": "stream",
     "text": [
      "Felicidades, realizaste este ejercicio correctamente.\n"
     ]
    }
   ],
   "source": [
    "# Autocalificador\n",
    "\n",
    "calificar_ejercicio11(tupla_pedidos, pedidos_semana_1, pedidos_semana_2, pedidos_semana_3)"
   ]
  },
  {
   "cell_type": "markdown",
   "metadata": {
    "nbgrader": {
     "grade": false,
     "grade_id": "ej12-task",
     "locked": true,
     "schema_version": 3,
     "solution": false,
     "task": false
    }
   },
   "source": [
    "### Ejercicio 12\n",
    "\n",
    "Utiliza la función de Python `sum` para obtener el total de pedidos de la semana `s` y almacena el resultado en una variable llamada `total_pedidos_semana_s`. Haz uso de la tupla `tupla_pedidos`."
   ]
  },
  {
   "cell_type": "code",
   "execution_count": 5,
   "metadata": {
    "nbgrader": {
     "grade": false,
     "grade_id": "ej12-data",
     "locked": true,
     "schema_version": 3,
     "solution": false,
     "task": false
    }
   },
   "outputs": [],
   "source": [
    "# No modifiques esta celda\n",
    "\n",
    "s = 2"
   ]
  },
  {
   "cell_type": "code",
   "execution_count": null,
   "metadata": {
    "nbgrader": {
     "grade": false,
     "grade_id": "ej12-sol",
     "locked": false,
     "schema_version": 3,
     "solution": true,
     "task": false
    },
    "nombre": "Ej12"
   },
   "outputs": [],
   "source": [
    "# Implementa tu respuesta en esta celda\n"
   ]
  },
  {
   "cell_type": "code",
   "execution_count": 8,
   "metadata": {},
   "outputs": [
    {
     "name": "stdout",
     "output_type": "stream",
     "text": [
      "Felicidades, realizaste este ejercicio correctamente.\n"
     ]
    }
   ],
   "source": [
    "# Autocalificador\n",
    "\n",
    "calificar_ejercicio12(total_pedidos_semana_s, tupla_pedidos, s)"
   ]
  },
  {
   "cell_type": "markdown",
   "metadata": {
    "nbgrader": {
     "grade": false,
     "grade_id": "ej13-enun",
     "locked": true,
     "schema_version": 3,
     "solution": false,
     "task": false
    }
   },
   "source": [
    "## Meses \n",
    "\n",
    "En la siguiente celda encontrarás un diccionario incompleto con el último día de cada mes del año."
   ]
  },
  {
   "cell_type": "code",
   "execution_count": 9,
   "metadata": {
    "nbgrader": {
     "grade": false,
     "grade_id": "ej13-data",
     "locked": true,
     "schema_version": 3,
     "solution": false,
     "task": false
    }
   },
   "outputs": [],
   "source": [
    "# No modifiques esta celda\n",
    "\n",
    "dicc_meses = {\"Enero\":31,\n",
    "              \"Febrero\":28,\n",
    "              \"Marzo\": 31,\n",
    "              \"Abril\": 30,\n",
    "              \"Mayo\":31,\n",
    "              \"Julio\":31,\n",
    "              \"Agosto\":31,\n",
    "              \"Septiembre\":30,\n",
    "              \"Noviembre\":30}"
   ]
  },
  {
   "cell_type": "markdown",
   "metadata": {
    "nbgrader": {
     "grade": false,
     "grade_id": "ej13-task",
     "locked": true,
     "schema_version": 3,
     "solution": false,
     "task": false
    }
   },
   "source": [
    "### Ejercicio 13\n",
    "\n",
    "Completa el diccionario `dicc_meses` con los meses faltantes."
   ]
  },
  {
   "cell_type": "code",
   "execution_count": null,
   "metadata": {
    "nbgrader": {
     "grade": false,
     "grade_id": "ej13-sol",
     "locked": false,
     "schema_version": 3,
     "solution": true,
     "task": false
    },
    "nombre": "Ej13"
   },
   "outputs": [],
   "source": [
    "# Implementa tu respuesta en esta celda\n",
    "\n"
   ]
  },
  {
   "cell_type": "code",
   "execution_count": 11,
   "metadata": {},
   "outputs": [
    {
     "name": "stdout",
     "output_type": "stream",
     "text": [
      "Felicidades, realizaste este ejercicio correctamente.\n"
     ]
    }
   ],
   "source": [
    "# Autocalificador\n",
    "\n",
    "calificar_ejercicio13(dicc_meses)"
   ]
  },
  {
   "cell_type": "markdown",
   "metadata": {
    "nbgrader": {
     "grade": false,
     "grade_id": "ej14-enun",
     "locked": true,
     "schema_version": 3,
     "solution": false,
     "task": false
    }
   },
   "source": [
    "## Una matriz en un diccionario \n",
    "\n",
    "Adaptado de Downey, A., Elkner, J., & Meyers, C. (2012).\n",
    "\n",
    "Una tienda de videojuegos está analizando si una familia comprará la nueva consola de videojuegos con base en dos variables: el número de hijos (un hijo o más) y las horas que comparten los padres al día con sus hijos (una hora o más). La compañía representó sus resultados en la siguiente matriz, donde las filas corresponden al número de horas diarias que los padres comparten con sus hijos y las columnas al número de hijos:\n",
    "\n",
    "$$\\begin{matrix} 0 & 1 & 0 & 1 & 1 \\\\ 0 & 0 & 0 & 0 & 1 \\\\ 1 & 0 & 0 & 1 & 0 \\\\ 1 & 0 & 1 & 0 & 1 \\end{matrix}$$\n",
    "\n",
    "Según esta matriz, una familia en la que los padres disponen de tres horas para compartir con sus hijos y que tiene cuatro hijos comprará la consola de videojuegos. Asimismo, en una familia en la que los padres disponen de una hora para compartir con sus hijos y que tiene tres hijos no la comprará. \n",
    "\n",
    "*Resuelve los ejercicios 14 y 15 con base en este enunciado.*"
   ]
  },
  {
   "cell_type": "markdown",
   "metadata": {
    "nbgrader": {
     "grade": false,
     "grade_id": "ej14-task",
     "locked": true,
     "schema_version": 3,
     "solution": false,
     "task": false
    }
   },
   "source": [
    "### Ejercicio 14\n",
    "\n",
    "Crea un diccionario con el nombre `matriz`, que contenga únicamente los casos en los que la familia comprará la consola. Las llaves del dicccionario deben ser tuplas que indiquen la cantidad de horas y cantidad de hijos. Además, tanto los componentes de la llave como el valor deben ser númericos. Si también representas los casos en los que la familia no comprará la consola, no obtendrás puntuación."
   ]
  },
  {
   "cell_type": "code",
   "execution_count": null,
   "metadata": {
    "nbgrader": {
     "grade": false,
     "grade_id": "ej14-sol",
     "locked": false,
     "schema_version": 3,
     "solution": true,
     "task": false
    },
    "nombre": "Ej14",
    "scrolled": true
   },
   "outputs": [],
   "source": [
    "# Implementa tu respuesta en esta celda\n",
    "\n"
   ]
  },
  {
   "cell_type": "code",
   "execution_count": 13,
   "metadata": {},
   "outputs": [
    {
     "name": "stdout",
     "output_type": "stream",
     "text": [
      "Felicidades, realizaste este ejercicio correctamente.\n"
     ]
    }
   ],
   "source": [
    "# Autocalificador\n",
    "\n",
    "calificar_ejercicio14(matriz)"
   ]
  },
  {
   "cell_type": "markdown",
   "metadata": {
    "nbgrader": {
     "grade": false,
     "grade_id": "ej15-task",
     "locked": true,
     "schema_version": 3,
     "solution": false,
     "task": false
    }
   },
   "source": [
    "### Ejercicio 15\n",
    "\n",
    "Consulta el diccionario para saber si una familia, que tiene `h` hijos y en la que los padres disponen de `t` horas diarias para compartir con ellos, comprará la consola. Debes hacer uso del diccionario `matriz` y no lo puedes modificar. Guarda el valor resultante en una variable que se llame `prediccion_familia`.\n",
    "\n",
    "**Nota**: la variable `prediccion_familia` debe tomar el valor de 1 si la familia comprará la consola, y 0 en caso contrario."
   ]
  },
  {
   "cell_type": "code",
   "execution_count": 30,
   "metadata": {
    "nbgrader": {
     "grade": false,
     "grade_id": "ej15-data",
     "locked": true,
     "schema_version": 3,
     "solution": false,
     "task": false
    }
   },
   "outputs": [],
   "source": [
    "# No modifiques esta celda\n",
    "\n",
    "h = 5\n",
    "t = 2"
   ]
  },
  {
   "cell_type": "code",
   "execution_count": null,
   "metadata": {
    "nbgrader": {
     "grade": false,
     "grade_id": "ej15-sol",
     "locked": false,
     "schema_version": 3,
     "solution": true,
     "task": false
    },
    "nombre": "Ej15"
   },
   "outputs": [],
   "source": [
    "# Implementa tu respuesta en esta celda\n",
    "\n"
   ]
  },
  {
   "cell_type": "code",
   "execution_count": 32,
   "metadata": {},
   "outputs": [
    {
     "name": "stdout",
     "output_type": "stream",
     "text": [
      "Felicidades, realizaste este ejercicio correctamente.\n"
     ]
    }
   ],
   "source": [
    "# Autocalificador\n",
    "\n",
    "calificar_ejercicio15(prediccion_familia, matriz, h, t)"
   ]
  },
  {
   "cell_type": "markdown",
   "metadata": {
    "nbgrader": {
     "grade": false,
     "grade_id": "refs",
     "locked": true,
     "schema_version": 3,
     "solution": false,
     "task": false
    }
   },
   "source": [
    "## Referencias\n",
    " \n",
    "Downey, A., Elkner, J., & Meyers, C. (2012). How To Think Like A Computer Scientist: Learning with Python. Segunda Edición. Recuperado de: https://www.openbookproject.net/thinkcs/python/english2e/index.html"
   ]
  }
 ],
 "metadata": {
  "celltoolbar": "Create Assignment",
  "kernelspec": {
   "display_name": "base",
   "language": "python",
   "name": "python3"
  },
  "language_info": {
   "codemirror_mode": {
    "name": "ipython",
    "version": 3
   },
   "file_extension": ".py",
   "mimetype": "text/x-python",
   "name": "python",
   "nbconvert_exporter": "python",
   "pygments_lexer": "ipython3",
   "version": "3.10.9"
  }
 },
 "nbformat": 4,
 "nbformat_minor": 2
}
